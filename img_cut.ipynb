{
 "cells": [
  {
   "cell_type": "code",
   "execution_count": null,
   "metadata": {},
   "outputs": [],
   "source": [
    "import cv2\n",
    "import glob"
   ]
  },
  {
   "cell_type": "code",
   "execution_count": null,
   "metadata": {},
   "outputs": [],
   "source": [
    "img = cv2.imread(\"data/dog.jpg\")\n",
    "left, right = 134, 313\n",
    "top, bottom =214, 542\n",
    "im2 = img[top:bottom, left:right]\n",
    "cv2.imwrite(\"only_dog.jpg\", im2)\n",
    "\n",
    "#files = glob.glob(\"data/muscle*.txt\")\n",
    "#img = cv2.imread(\"data/*.jpg\")\n",
    "#left, right = "
   ]
  },
  {
   "cell_type": "code",
   "execution_count": null,
   "metadata": {},
   "outputs": [],
   "source": [
    "dataset_dir = \"../darknet/data\"\n",
    "files = {glob.glob(f\"{dataset_dir}/*.jpg\")}\n",
    "table = {name(f): cv2.imread(f, header=None, dtype=np.float32)[1] for f in files}"
   ]
  },
  {
   "cell_type": "code",
   "execution_count": null,
   "metadata": {},
   "outputs": [],
   "source": []
  }
 ],
 "metadata": {
  "kernelspec": {
   "display_name": "Python 3",
   "language": "python",
   "name": "python3"
  },
  "language_info": {
   "codemirror_mode": {
    "name": "ipython",
    "version": 3
   },
   "file_extension": ".py",
   "mimetype": "text/x-python",
   "name": "python",
   "nbconvert_exporter": "python",
   "pygments_lexer": "ipython3",
   "version": "3.6.6"
  }
 },
 "nbformat": 4,
 "nbformat_minor": 2
}
